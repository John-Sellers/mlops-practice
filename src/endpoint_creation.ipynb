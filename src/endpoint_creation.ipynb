{
 "cells": [
  {
   "cell_type": "code",
   "execution_count": null,
   "metadata": {},
   "outputs": [],
   "source": [
    "import boto3\n",
    "import sagemaker\n",
    "\n",
    "# Initialize SageMaker session and role\n",
    "sagemaker_session = sagemaker.Session()\n",
    "role = \"arn:aws:iam::431133229416:role/SageMakerExecutionRole\"  # Correct IAM role ARN format\n",
    "\n",
    "# Specify model artifacts location in S3\n",
    "model_data = \"s3://pkl-models/artifacts/2024-05-16 19:23:30/model.tar.gz\"\n",
    "\n",
    "# Import necessary libraries\n",
    "from sagemaker.sklearn import SKLearnModel\n",
    "\n",
    "# Specify the scikit-learn version\n",
    "scikit_learn_version = \"0.20.0\"  # Adjust this to the version you are using\n",
    "\n",
    "# Create a SageMaker Model\n",
    "model = SKLearnModel(\n",
    "    model_data=model_data,\n",
    "    image_uri=sagemaker.image_uris.retrieve(\n",
    "        \"sklearn\", sagemaker_session.boto_region_name, version=scikit_learn_version\n",
    "    ),\n",
    "    role=role,\n",
    "    sagemaker_session=sagemaker_session,\n",
    ")\n",
    "\n",
    "# Deploy the model as an endpoint\n",
    "predictor = model.deploy(initial_instance_count=1, instance_type=\"ml.m5.large\")\n",
    "\n",
    "# Example inference\n",
    "sample_input = {\n",
    "    \"gender\": \"female\",\n",
    "    \"race_ethnicity\": \"group B\",\n",
    "    \"parental_level_of_education\": \"bachelor's degree\",\n",
    "    \"lunch\": \"standard\",\n",
    "    \"test_preparation_course\": \"none\",\n",
    "    \"reading_score\": 72,\n",
    "    \"writing_score\": 74,\n",
    "}\n",
    "\n",
    "# Perform inference using the deployed endpoint\n",
    "result = predictor.predict(sample_input)\n",
    "print(result)"
   ]
  }
 ],
 "metadata": {
  "kernelspec": {
   "display_name": ".venv",
   "language": "python",
   "name": "python3"
  },
  "language_info": {
   "codemirror_mode": {
    "name": "ipython",
    "version": 3
   },
   "file_extension": ".py",
   "mimetype": "text/x-python",
   "name": "python",
   "nbconvert_exporter": "python",
   "pygments_lexer": "ipython3",
   "version": "3.12.3"
  }
 },
 "nbformat": 4,
 "nbformat_minor": 2
}
